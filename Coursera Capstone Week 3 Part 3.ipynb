{
 "cells": [
  {
   "cell_type": "markdown",
   "metadata": {},
   "source": [
    "# Peer Graded Assignement Week 3: Part 3"
   ]
  },
  {
   "cell_type": "markdown",
   "metadata": {},
   "source": [
    "## Neighbourhood of Toronto"
   ]
  },
  {
   "cell_type": "markdown",
   "metadata": {},
   "source": [
    "### 1. Setting up the environmemt"
   ]
  },
  {
   "cell_type": "code",
   "execution_count": 1,
   "metadata": {},
   "outputs": [
    {
     "name": "stdout",
     "output_type": "stream",
     "text": [
      "Libraries imported.\n"
     ]
    }
   ],
   "source": [
    "import numpy as np\n",
    "import pandas as pd\n",
    "pd.set_option('display.max_columns', None)\n",
    "pd.set_option('display.max_rows', None)\n",
    "\n",
    "import json\n",
    "\n",
    "#!conda install -c conda-forge geopy --yes\n",
    "from geopy.geocoders import Nominatim\n",
    "\n",
    "from bs4 import BeautifulSoup\n",
    "from urllib.request import urlopen\n",
    "import requests\n",
    "from pandas.io.json import json_normalize\n",
    "\n",
    "import matplotlib.cm as cm\n",
    "import matplotlib.colors as colors\n",
    "\n",
    "from sklearn.cluster import KMeans\n",
    "\n",
    "#!conda install -c conda-forge folium=0.5.0 --yes\n",
    "import folium\n",
    "\n",
    "print('Libraries imported.')"
   ]
  },
  {
   "cell_type": "markdown",
   "metadata": {},
   "source": [
    "### 2. Parsing the html"
   ]
  },
  {
   "cell_type": "code",
   "execution_count": 2,
   "metadata": {},
   "outputs": [],
   "source": [
    "url = 'https://en.wikipedia.org/wiki/List_of_postal_codes_of_Canada:_M'\n",
    "page = urlopen(url).read().decode('utf-8')\n",
    "soup = BeautifulSoup(page, 'html.parser')\n",
    "\n",
    "wiki_table = soup.body.table.tbody"
   ]
  },
  {
   "cell_type": "markdown",
   "metadata": {},
   "source": [
    "### 3. Extracting Data from the Table to the Dataframe"
   ]
  },
  {
   "cell_type": "code",
   "execution_count": 3,
   "metadata": {},
   "outputs": [],
   "source": [
    "def get_cell(element):\n",
    "    cells = element.find_all('td')\n",
    "    row = []\n",
    "    \n",
    "    for cell in cells:\n",
    "        if cell.a:            \n",
    "            if (cell.a.text):\n",
    "                row.append(cell.a.text)\n",
    "                continue\n",
    "        row.append(cell.string.strip())\n",
    "        \n",
    "    return row"
   ]
  },
  {
   "cell_type": "code",
   "execution_count": 4,
   "metadata": {},
   "outputs": [],
   "source": [
    "def get_row():    \n",
    "    data = []  \n",
    "    \n",
    "    for tr in wiki_table.find_all('tr'):\n",
    "        row = get_cell(tr)\n",
    "        if len(row) != 3:\n",
    "            continue\n",
    "        data.append(row)        \n",
    "    \n",
    "    return data"
   ]
  },
  {
   "cell_type": "code",
   "execution_count": 5,
   "metadata": {},
   "outputs": [
    {
     "data": {
      "text/html": [
       "<div>\n",
       "<style scoped>\n",
       "    .dataframe tbody tr th:only-of-type {\n",
       "        vertical-align: middle;\n",
       "    }\n",
       "\n",
       "    .dataframe tbody tr th {\n",
       "        vertical-align: top;\n",
       "    }\n",
       "\n",
       "    .dataframe thead th {\n",
       "        text-align: right;\n",
       "    }\n",
       "</style>\n",
       "<table border=\"1\" class=\"dataframe\">\n",
       "  <thead>\n",
       "    <tr style=\"text-align: right;\">\n",
       "      <th></th>\n",
       "      <th>PostalCode</th>\n",
       "      <th>Borough</th>\n",
       "      <th>Neighbourhood</th>\n",
       "    </tr>\n",
       "  </thead>\n",
       "  <tbody>\n",
       "    <tr>\n",
       "      <th>0</th>\n",
       "      <td>M1A</td>\n",
       "      <td>Not assigned</td>\n",
       "      <td>Not assigned</td>\n",
       "    </tr>\n",
       "    <tr>\n",
       "      <th>1</th>\n",
       "      <td>M2A</td>\n",
       "      <td>Not assigned</td>\n",
       "      <td>Not assigned</td>\n",
       "    </tr>\n",
       "    <tr>\n",
       "      <th>2</th>\n",
       "      <td>M3A</td>\n",
       "      <td>North York</td>\n",
       "      <td>Parkwoods</td>\n",
       "    </tr>\n",
       "    <tr>\n",
       "      <th>3</th>\n",
       "      <td>M4A</td>\n",
       "      <td>North York</td>\n",
       "      <td>Victoria Village</td>\n",
       "    </tr>\n",
       "    <tr>\n",
       "      <th>4</th>\n",
       "      <td>M5A</td>\n",
       "      <td>Downtown Toronto</td>\n",
       "      <td>Regent Park, Harbourfront</td>\n",
       "    </tr>\n",
       "  </tbody>\n",
       "</table>\n",
       "</div>"
      ],
      "text/plain": [
       "  PostalCode           Borough              Neighbourhood\n",
       "0        M1A      Not assigned               Not assigned\n",
       "1        M2A      Not assigned               Not assigned\n",
       "2        M3A        North York                  Parkwoods\n",
       "3        M4A        North York           Victoria Village\n",
       "4        M5A  Downtown Toronto  Regent Park, Harbourfront"
      ]
     },
     "execution_count": 5,
     "metadata": {},
     "output_type": "execute_result"
    }
   ],
   "source": [
    "data = get_row()\n",
    "columns = ['PostalCode', 'Borough', 'Neighbourhood']\n",
    "df = pd.DataFrame(data, columns=columns)\n",
    "df.head()"
   ]
  },
  {
   "cell_type": "code",
   "execution_count": 6,
   "metadata": {},
   "outputs": [
    {
     "data": {
      "text/plain": [
       "(180, 3)"
      ]
     },
     "execution_count": 6,
     "metadata": {},
     "output_type": "execute_result"
    }
   ],
   "source": [
    "df.shape"
   ]
  },
  {
   "cell_type": "markdown",
   "metadata": {},
   "source": [
    "### 4. Cleaning the Data"
   ]
  },
  {
   "cell_type": "code",
   "execution_count": 7,
   "metadata": {},
   "outputs": [
    {
     "data": {
      "text/html": [
       "<div>\n",
       "<style scoped>\n",
       "    .dataframe tbody tr th:only-of-type {\n",
       "        vertical-align: middle;\n",
       "    }\n",
       "\n",
       "    .dataframe tbody tr th {\n",
       "        vertical-align: top;\n",
       "    }\n",
       "\n",
       "    .dataframe thead th {\n",
       "        text-align: right;\n",
       "    }\n",
       "</style>\n",
       "<table border=\"1\" class=\"dataframe\">\n",
       "  <thead>\n",
       "    <tr style=\"text-align: right;\">\n",
       "      <th></th>\n",
       "      <th>PostalCode</th>\n",
       "      <th>Borough</th>\n",
       "      <th>Neighbourhood</th>\n",
       "    </tr>\n",
       "  </thead>\n",
       "  <tbody>\n",
       "    <tr>\n",
       "      <th>0</th>\n",
       "      <td>M1B</td>\n",
       "      <td>Scarborough</td>\n",
       "      <td>Malvern, Rouge</td>\n",
       "    </tr>\n",
       "    <tr>\n",
       "      <th>1</th>\n",
       "      <td>M1C</td>\n",
       "      <td>Scarborough</td>\n",
       "      <td>Rouge Hill, Port Union, Highland Creek</td>\n",
       "    </tr>\n",
       "    <tr>\n",
       "      <th>2</th>\n",
       "      <td>M1E</td>\n",
       "      <td>Scarborough</td>\n",
       "      <td>Guildwood, Morningside, West Hill</td>\n",
       "    </tr>\n",
       "    <tr>\n",
       "      <th>3</th>\n",
       "      <td>M1G</td>\n",
       "      <td>Scarborough</td>\n",
       "      <td>Woburn</td>\n",
       "    </tr>\n",
       "    <tr>\n",
       "      <th>4</th>\n",
       "      <td>M1H</td>\n",
       "      <td>Scarborough</td>\n",
       "      <td>Cedarbrae</td>\n",
       "    </tr>\n",
       "  </tbody>\n",
       "</table>\n",
       "</div>"
      ],
      "text/plain": [
       "  PostalCode      Borough                           Neighbourhood\n",
       "0        M1B  Scarborough                          Malvern, Rouge\n",
       "1        M1C  Scarborough  Rouge Hill, Port Union, Highland Creek\n",
       "2        M1E  Scarborough       Guildwood, Morningside, West Hill\n",
       "3        M1G  Scarborough                                  Woburn\n",
       "4        M1H  Scarborough                               Cedarbrae"
      ]
     },
     "execution_count": 7,
     "metadata": {},
     "output_type": "execute_result"
    }
   ],
   "source": [
    "df1 = df[df.Borough != 'Not assigned']\n",
    "df1 = df1.sort_values(by=['PostalCode','Borough'])\n",
    "\n",
    "df1.reset_index(inplace=True)\n",
    "df1.drop('index',axis=1,inplace=True)\n",
    "\n",
    "df1.head()"
   ]
  },
  {
   "cell_type": "code",
   "execution_count": 8,
   "metadata": {},
   "outputs": [],
   "source": [
    "df_postcodes = df1['PostalCode']\n",
    "df_postcodes.drop_duplicates(inplace=True)\n",
    "df2 = pd.DataFrame(df_postcodes)\n",
    "df2['Borough'] = '';\n",
    "df2['Neighbourhood'] = '';\n",
    "\n",
    "\n",
    "df2.reset_index(inplace=True)\n",
    "df2.drop('index', axis=1, inplace=True)\n",
    "df1.reset_index(inplace=True)\n",
    "df1.drop('index', axis=1, inplace=True)\n",
    "\n",
    "for i in df2.index:\n",
    "    for j in df1.index:\n",
    "        if df2.iloc[i, 0] == df1.iloc[j, 0]:\n",
    "            df2.iloc[i, 1] = df1.iloc[j, 1]\n",
    "            df2.iloc[i, 2] = df2.iloc[i, 2] + ',' + df1.iloc[j, 2]\n",
    "            \n",
    "for i in df2.index:\n",
    "    s = df2.iloc[i, 2]\n",
    "    if s[0] == ',':\n",
    "        s =s [1:]\n",
    "    df2.iloc[i,2 ] = s"
   ]
  },
  {
   "cell_type": "code",
   "execution_count": 9,
   "metadata": {},
   "outputs": [
    {
     "data": {
      "text/plain": [
       "(103, 3)"
      ]
     },
     "execution_count": 9,
     "metadata": {},
     "output_type": "execute_result"
    }
   ],
   "source": [
    "df2.shape"
   ]
  },
  {
   "cell_type": "markdown",
   "metadata": {},
   "source": [
    "### 5. Adding the Geospatial Data to the dataframe"
   ]
  },
  {
   "cell_type": "code",
   "execution_count": 10,
   "metadata": {},
   "outputs": [
    {
     "data": {
      "text/html": [
       "<div>\n",
       "<style scoped>\n",
       "    .dataframe tbody tr th:only-of-type {\n",
       "        vertical-align: middle;\n",
       "    }\n",
       "\n",
       "    .dataframe tbody tr th {\n",
       "        vertical-align: top;\n",
       "    }\n",
       "\n",
       "    .dataframe thead th {\n",
       "        text-align: right;\n",
       "    }\n",
       "</style>\n",
       "<table border=\"1\" class=\"dataframe\">\n",
       "  <thead>\n",
       "    <tr style=\"text-align: right;\">\n",
       "      <th></th>\n",
       "      <th>Postal Code</th>\n",
       "      <th>Latitude</th>\n",
       "      <th>Longitude</th>\n",
       "    </tr>\n",
       "  </thead>\n",
       "  <tbody>\n",
       "    <tr>\n",
       "      <th>0</th>\n",
       "      <td>M1B</td>\n",
       "      <td>43.806686</td>\n",
       "      <td>-79.194353</td>\n",
       "    </tr>\n",
       "    <tr>\n",
       "      <th>1</th>\n",
       "      <td>M1C</td>\n",
       "      <td>43.784535</td>\n",
       "      <td>-79.160497</td>\n",
       "    </tr>\n",
       "    <tr>\n",
       "      <th>2</th>\n",
       "      <td>M1E</td>\n",
       "      <td>43.763573</td>\n",
       "      <td>-79.188711</td>\n",
       "    </tr>\n",
       "    <tr>\n",
       "      <th>3</th>\n",
       "      <td>M1G</td>\n",
       "      <td>43.770992</td>\n",
       "      <td>-79.216917</td>\n",
       "    </tr>\n",
       "    <tr>\n",
       "      <th>4</th>\n",
       "      <td>M1H</td>\n",
       "      <td>43.773136</td>\n",
       "      <td>-79.239476</td>\n",
       "    </tr>\n",
       "  </tbody>\n",
       "</table>\n",
       "</div>"
      ],
      "text/plain": [
       "  Postal Code   Latitude  Longitude\n",
       "0         M1B  43.806686 -79.194353\n",
       "1         M1C  43.784535 -79.160497\n",
       "2         M1E  43.763573 -79.188711\n",
       "3         M1G  43.770992 -79.216917\n",
       "4         M1H  43.773136 -79.239476"
      ]
     },
     "execution_count": 10,
     "metadata": {},
     "output_type": "execute_result"
    }
   ],
   "source": [
    "df2['Latitude'] = '0';\n",
    "df2['Longitude'] = '0';\n",
    "\n",
    "df_geo = pd.read_csv('Geospatial_Coordinates.csv')\n",
    "df_geo.head()"
   ]
  },
  {
   "cell_type": "code",
   "execution_count": 11,
   "metadata": {},
   "outputs": [
    {
     "data": {
      "text/html": [
       "<div>\n",
       "<style scoped>\n",
       "    .dataframe tbody tr th:only-of-type {\n",
       "        vertical-align: middle;\n",
       "    }\n",
       "\n",
       "    .dataframe tbody tr th {\n",
       "        vertical-align: top;\n",
       "    }\n",
       "\n",
       "    .dataframe thead th {\n",
       "        text-align: right;\n",
       "    }\n",
       "</style>\n",
       "<table border=\"1\" class=\"dataframe\">\n",
       "  <thead>\n",
       "    <tr style=\"text-align: right;\">\n",
       "      <th></th>\n",
       "      <th>PostalCode</th>\n",
       "      <th>Borough</th>\n",
       "      <th>Neighbourhood</th>\n",
       "      <th>Latitude</th>\n",
       "      <th>Longitude</th>\n",
       "    </tr>\n",
       "  </thead>\n",
       "  <tbody>\n",
       "    <tr>\n",
       "      <th>0</th>\n",
       "      <td>M1B</td>\n",
       "      <td>Scarborough</td>\n",
       "      <td>Malvern, Rouge</td>\n",
       "      <td>43.8067</td>\n",
       "      <td>-79.1944</td>\n",
       "    </tr>\n",
       "    <tr>\n",
       "      <th>1</th>\n",
       "      <td>M1C</td>\n",
       "      <td>Scarborough</td>\n",
       "      <td>Rouge Hill, Port Union, Highland Creek</td>\n",
       "      <td>43.7845</td>\n",
       "      <td>-79.1605</td>\n",
       "    </tr>\n",
       "    <tr>\n",
       "      <th>2</th>\n",
       "      <td>M1E</td>\n",
       "      <td>Scarborough</td>\n",
       "      <td>Guildwood, Morningside, West Hill</td>\n",
       "      <td>43.7636</td>\n",
       "      <td>-79.1887</td>\n",
       "    </tr>\n",
       "    <tr>\n",
       "      <th>3</th>\n",
       "      <td>M1G</td>\n",
       "      <td>Scarborough</td>\n",
       "      <td>Woburn</td>\n",
       "      <td>43.771</td>\n",
       "      <td>-79.2169</td>\n",
       "    </tr>\n",
       "    <tr>\n",
       "      <th>4</th>\n",
       "      <td>M1H</td>\n",
       "      <td>Scarborough</td>\n",
       "      <td>Cedarbrae</td>\n",
       "      <td>43.7731</td>\n",
       "      <td>-79.2395</td>\n",
       "    </tr>\n",
       "  </tbody>\n",
       "</table>\n",
       "</div>"
      ],
      "text/plain": [
       "  PostalCode      Borough                           Neighbourhood Latitude  \\\n",
       "0        M1B  Scarborough                          Malvern, Rouge  43.8067   \n",
       "1        M1C  Scarborough  Rouge Hill, Port Union, Highland Creek  43.7845   \n",
       "2        M1E  Scarborough       Guildwood, Morningside, West Hill  43.7636   \n",
       "3        M1G  Scarborough                                  Woburn   43.771   \n",
       "4        M1H  Scarborough                               Cedarbrae  43.7731   \n",
       "\n",
       "  Longitude  \n",
       "0  -79.1944  \n",
       "1  -79.1605  \n",
       "2  -79.1887  \n",
       "3  -79.2169  \n",
       "4  -79.2395  "
      ]
     },
     "execution_count": 11,
     "metadata": {},
     "output_type": "execute_result"
    }
   ],
   "source": [
    "for i in df2.index:\n",
    "    for j in df_geo.index:\n",
    "        if df2.iloc[i, 0] == df_geo.iloc[j, 0]:\n",
    "            df2.iloc[i, 3] = df_geo.iloc[j, 1]\n",
    "            df2.iloc[i, 4] = df_geo.iloc[j, 2]\n",
    "            \n",
    "df2.head()"
   ]
  },
  {
   "cell_type": "markdown",
   "metadata": {},
   "source": [
    "### 6. Clustering the Neighbourhoods in Toronto"
   ]
  },
  {
   "cell_type": "code",
   "execution_count": 12,
   "metadata": {},
   "outputs": [
    {
     "data": {
      "text/html": [
       "<div>\n",
       "<style scoped>\n",
       "    .dataframe tbody tr th:only-of-type {\n",
       "        vertical-align: middle;\n",
       "    }\n",
       "\n",
       "    .dataframe tbody tr th {\n",
       "        vertical-align: top;\n",
       "    }\n",
       "\n",
       "    .dataframe thead th {\n",
       "        text-align: right;\n",
       "    }\n",
       "</style>\n",
       "<table border=\"1\" class=\"dataframe\">\n",
       "  <thead>\n",
       "    <tr style=\"text-align: right;\">\n",
       "      <th></th>\n",
       "      <th>PostalCode</th>\n",
       "      <th>Borough</th>\n",
       "      <th>Neighbourhood</th>\n",
       "      <th>Latitude</th>\n",
       "      <th>Longitude</th>\n",
       "    </tr>\n",
       "  </thead>\n",
       "  <tbody>\n",
       "    <tr>\n",
       "      <th>37</th>\n",
       "      <td>M4E</td>\n",
       "      <td>East Toronto</td>\n",
       "      <td>The Beaches</td>\n",
       "      <td>43.6764</td>\n",
       "      <td>-79.293</td>\n",
       "    </tr>\n",
       "    <tr>\n",
       "      <th>41</th>\n",
       "      <td>M4K</td>\n",
       "      <td>East Toronto</td>\n",
       "      <td>The Danforth West, Riverdale</td>\n",
       "      <td>43.6796</td>\n",
       "      <td>-79.3522</td>\n",
       "    </tr>\n",
       "    <tr>\n",
       "      <th>42</th>\n",
       "      <td>M4L</td>\n",
       "      <td>East Toronto</td>\n",
       "      <td>India Bazaar, The Beaches West</td>\n",
       "      <td>43.669</td>\n",
       "      <td>-79.3156</td>\n",
       "    </tr>\n",
       "    <tr>\n",
       "      <th>43</th>\n",
       "      <td>M4M</td>\n",
       "      <td>East Toronto</td>\n",
       "      <td>Studio District</td>\n",
       "      <td>43.6595</td>\n",
       "      <td>-79.3409</td>\n",
       "    </tr>\n",
       "    <tr>\n",
       "      <th>44</th>\n",
       "      <td>M4N</td>\n",
       "      <td>Central Toronto</td>\n",
       "      <td>Lawrence Park</td>\n",
       "      <td>43.728</td>\n",
       "      <td>-79.3888</td>\n",
       "    </tr>\n",
       "  </tbody>\n",
       "</table>\n",
       "</div>"
      ],
      "text/plain": [
       "   PostalCode          Borough                   Neighbourhood Latitude  \\\n",
       "37        M4E     East Toronto                     The Beaches  43.6764   \n",
       "41        M4K     East Toronto    The Danforth West, Riverdale  43.6796   \n",
       "42        M4L     East Toronto  India Bazaar, The Beaches West   43.669   \n",
       "43        M4M     East Toronto                 Studio District  43.6595   \n",
       "44        M4N  Central Toronto                   Lawrence Park   43.728   \n",
       "\n",
       "   Longitude  \n",
       "37   -79.293  \n",
       "41  -79.3522  \n",
       "42  -79.3156  \n",
       "43  -79.3409  \n",
       "44  -79.3888  "
      ]
     },
     "execution_count": 12,
     "metadata": {},
     "output_type": "execute_result"
    }
   ],
   "source": [
    "df3 = df2.copy()\n",
    "df3 = df3[df2.Borough.str.contains(\"Toronto\")]\n",
    "df3.head()"
   ]
  },
  {
   "cell_type": "code",
   "execution_count": 13,
   "metadata": {},
   "outputs": [
    {
     "data": {
      "text/html": [
       "<div style=\"width:100%;\"><div style=\"position:relative;width:100%;height:0;padding-bottom:60%;\"><span style=\"color:#565656\">Make this Notebook Trusted to load map: File -> Trust Notebook</span><iframe src=\"about:blank\" style=\"position:absolute;width:100%;height:100%;left:0;top:0;border:none !important;\" data-html=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 onload=\"this.contentDocument.open();this.contentDocument.write(atob(this.getAttribute('data-html')));this.contentDocument.close();\" allowfullscreen webkitallowfullscreen mozallowfullscreen></iframe></div></div>"
      ],
      "text/plain": [
       "<folium.folium.Map at 0x2707ccb2848>"
      ]
     },
     "execution_count": 13,
     "metadata": {},
     "output_type": "execute_result"
    }
   ],
   "source": [
    "toronto_map = folium.Map(location=[43.65, -79.4], zoom_start=12)\n",
    "\n",
    "X = df3['Latitude']\n",
    "Y = df3['Longitude']\n",
    "Z = np.stack((X, Y), axis=1)\n",
    "\n",
    "kmeans = KMeans(n_clusters=4, random_state=0).fit(Z)\n",
    "\n",
    "clusters = kmeans.labels_\n",
    "colors = ['red', 'green', 'blue', 'yellow']\n",
    "df3['Cluster'] = clusters\n",
    "\n",
    "for latitude, longitude, borough, cluster in zip(df3['Latitude'], df3['Longitude'], df3['Borough'], df3['Cluster']):\n",
    "    label = folium.Popup(borough, parse_html=True)\n",
    "    folium.CircleMarker(\n",
    "        [latitude, longitude],\n",
    "        radius=5,\n",
    "        popup=label,\n",
    "        color='black',\n",
    "        fill=True,\n",
    "        fill_color=colors[cluster],\n",
    "        fill_opacity=0.7).add_to(toronto_map)  \n",
    "\n",
    "toronto_map"
   ]
  },
  {
   "cell_type": "code",
   "execution_count": null,
   "metadata": {},
   "outputs": [],
   "source": []
  }
 ],
 "metadata": {
  "kernelspec": {
   "display_name": "Python 3",
   "language": "python",
   "name": "python3"
  },
  "language_info": {
   "codemirror_mode": {
    "name": "ipython",
    "version": 3
   },
   "file_extension": ".py",
   "mimetype": "text/x-python",
   "name": "python",
   "nbconvert_exporter": "python",
   "pygments_lexer": "ipython3",
   "version": "3.7.7"
  }
 },
 "nbformat": 4,
 "nbformat_minor": 4
}
